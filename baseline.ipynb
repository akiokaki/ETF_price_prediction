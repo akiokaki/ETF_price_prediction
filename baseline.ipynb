{
 "cells": [
  {
   "cell_type": "markdown",
   "metadata": {},
   "source": [
    "### references\n",
    "\n",
    "autocorrelation plots: https://www.kaggle.com/jeegarmaru/timeseriesanalysis-autocorrelation\n",
    "\n",
    "time series analysis: https://www.kaggle.com/thebrownviking20/everything-you-can-do-with-a-time-series\n",
    "\n",
    "50 Best ETFs to Invest In for 2018 http://time.com/money/5090801/best-etf-2018/"
   ]
  },
  {
   "cell_type": "code",
   "execution_count": 2,
   "metadata": {},
   "outputs": [],
   "source": [
    "import os\n",
    "import csv\n",
    "import ast\n",
    "import statistics as stats\n",
    "import numpy as np\n",
    "import pandas as pd\n",
    "import time\n",
    "import datetime\n",
    "import matplotlib.pyplot as plt\n",
    "from pandas.plotting import lag_plot, autocorrelation_plot\n",
    "from sklearn.linear_model import BayesianRidge, LinearRegression\n",
    "from sklearn.model_selection import train_test_split\n",
    "from sklearn.pipeline import Pipeline\n",
    "from sklearn.svm import SVR\n",
    "from sklearn.neural_network import MLPRegressor"
   ]
  },
  {
   "cell_type": "code",
   "execution_count": 3,
   "metadata": {},
   "outputs": [],
   "source": [
    "# Columns:\n",
    "# Date,Open,High,Low,Close,Volume,OpenInt\n",
    "# 2008-03-28,43.64,43.64,43.64,43.64,231,0\n",
    "\n",
    "def pandas_csv_output():\n",
    "    '''\n",
    "    combines the txt files and outputs as csv\n",
    "    '''\n",
    "    \n",
    "    content_dict = {}\n",
    "    temp = []\n",
    "    # txt_search_list = ['aadr.us.txt', 'aaxj.us.txt'] #DEBUG\n",
    "    txt_search_list = os.listdir('./dataset/ETFs')\n",
    "    if len(txt_search_list) > 0:\n",
    "        index = 0\n",
    "        for each_txt in txt_search_list:\n",
    "            path = 'dataset/ETFs/'+each_txt\n",
    "            # with open(path, 'r') as f:\n",
    "            #     content_string_with_header = str(f.read())\n",
    "            dict = csv.DictReader(open(path))\n",
    "            for i in dict:\n",
    "                #Date,Open,High,Low,Close,Volume,OpenInt\n",
    "                content_dict[index] = {\n",
    "                    'etf': each_txt.split('.')[0],\n",
    "                    'Date': i['Date'],\n",
    "                    'Open': i['Open'],\n",
    "                    'High': i['High'],\n",
    "                    'Low': i['Low'],\n",
    "                    'Close': i['Close'],\n",
    "                    'Volume': i['Volume'],\n",
    "                    'OpenInt': i['OpenInt']\n",
    "                }\n",
    "                index+=1\n",
    "        df = pd.DataFrame.from_dict(\n",
    "            content_dict,\n",
    "            orient = 'index',\n",
    "            columns = ['etf', 'Date', 'Open', 'High', 'Low', 'Close', 'Volume', 'OpenInt'])\n",
    "        # print(df.head(3))\\\n",
    "    else: print('listdir didn\\'t output anything')\n",
    "    data.to_csv('data.csv')\n",
    "\n",
    "    return\n",
    "# pandas_csv_output()"
   ]
  },
  {
   "cell_type": "code",
   "execution_count": 4,
   "metadata": {},
   "outputs": [],
   "source": [
    "def pandas_output():\n",
    "    '''\n",
    "    read csv into pandas df\n",
    "    '''\n",
    "    \n",
    "    print('reading data')\n",
    "    s = time.time()\n",
    "    df = pd.read_csv('data.csv')\n",
    "    print(\"time to load: {} mins\".format((time.time()-s)/60))\n",
    "    return df"
   ]
  },
  {
   "cell_type": "code",
   "execution_count": 5,
   "metadata": {},
   "outputs": [],
   "source": [
    "def datetime_converter(item):\n",
    "    '''\n",
    "    converts an item inside a pd.Series into datetime obj\n",
    "    '''\n",
    "    itemized_date = item.split('-')\n",
    "    yr = itemized_date[0]\n",
    "    mth = itemized_date[1]\n",
    "    day = itemized_date[2]\n",
    "    \n",
    "    return datetime.date(int(yr),int(mth),int(day))"
   ]
  },
  {
   "cell_type": "markdown",
   "metadata": {},
   "source": [
    "## Read in data and clean up"
   ]
  },
  {
   "cell_type": "code",
   "execution_count": 6,
   "metadata": {},
   "outputs": [
    {
     "name": "stdout",
     "output_type": "stream",
     "text": [
      "reading data\n",
      "time to load: 0.0666621724764506 mins\n"
     ]
    },
    {
     "data": {
      "text/plain": [
       "(2565576, 9)"
      ]
     },
     "execution_count": 6,
     "metadata": {},
     "output_type": "execute_result"
    }
   ],
   "source": [
    "data = pandas_output()\n",
    "data = data.drop(axis=1, columns=['Unnamed: 0'])\n",
    "data['ratio'] = data['Close']/data['Volume']\n",
    "data['difference_OC'] = data['Open'] - data['Close']\n",
    "data = data.drop(data.index[[736057, 1988441]])\n",
    "# data = data.drop(data.index[[1988441]])\n",
    "data['Date'] = data['Date'].apply(datetime_converter)\n",
    "data.shape"
   ]
  },
  {
   "cell_type": "code",
   "execution_count": 7,
   "metadata": {},
   "outputs": [
    {
     "data": {
      "text/html": [
       "<div>\n",
       "<style scoped>\n",
       "    .dataframe tbody tr th:only-of-type {\n",
       "        vertical-align: middle;\n",
       "    }\n",
       "\n",
       "    .dataframe tbody tr th {\n",
       "        vertical-align: top;\n",
       "    }\n",
       "\n",
       "    .dataframe thead th {\n",
       "        text-align: right;\n",
       "    }\n",
       "</style>\n",
       "<table border=\"1\" class=\"dataframe\">\n",
       "  <thead>\n",
       "    <tr style=\"text-align: right;\">\n",
       "      <th></th>\n",
       "      <th>etf</th>\n",
       "      <th>Date</th>\n",
       "      <th>Open</th>\n",
       "      <th>High</th>\n",
       "      <th>Low</th>\n",
       "      <th>Close</th>\n",
       "      <th>Volume</th>\n",
       "      <th>ratio</th>\n",
       "      <th>difference_OC</th>\n",
       "    </tr>\n",
       "  </thead>\n",
       "  <tbody>\n",
       "    <tr>\n",
       "      <th>0</th>\n",
       "      <td>aadr</td>\n",
       "      <td>2010-07-21</td>\n",
       "      <td>24.333</td>\n",
       "      <td>24.333</td>\n",
       "      <td>23.946</td>\n",
       "      <td>23.946</td>\n",
       "      <td>43321</td>\n",
       "      <td>0.000553</td>\n",
       "      <td>0.387</td>\n",
       "    </tr>\n",
       "    <tr>\n",
       "      <th>1</th>\n",
       "      <td>aadr</td>\n",
       "      <td>2010-07-22</td>\n",
       "      <td>24.644</td>\n",
       "      <td>24.644</td>\n",
       "      <td>24.362</td>\n",
       "      <td>24.487</td>\n",
       "      <td>18031</td>\n",
       "      <td>0.001358</td>\n",
       "      <td>0.157</td>\n",
       "    </tr>\n",
       "    <tr>\n",
       "      <th>2</th>\n",
       "      <td>aadr</td>\n",
       "      <td>2010-07-23</td>\n",
       "      <td>24.759</td>\n",
       "      <td>24.759</td>\n",
       "      <td>24.314</td>\n",
       "      <td>24.507</td>\n",
       "      <td>8897</td>\n",
       "      <td>0.002755</td>\n",
       "      <td>0.252</td>\n",
       "    </tr>\n",
       "  </tbody>\n",
       "</table>\n",
       "</div>"
      ],
      "text/plain": [
       "    etf        Date    Open    High     Low   Close  Volume     ratio  \\\n",
       "0  aadr  2010-07-21  24.333  24.333  23.946  23.946   43321  0.000553   \n",
       "1  aadr  2010-07-22  24.644  24.644  24.362  24.487   18031  0.001358   \n",
       "2  aadr  2010-07-23  24.759  24.759  24.314  24.507    8897  0.002755   \n",
       "\n",
       "   difference_OC  \n",
       "0          0.387  \n",
       "1          0.157  \n",
       "2          0.252  "
      ]
     },
     "execution_count": 7,
     "metadata": {},
     "output_type": "execute_result"
    }
   ],
   "source": [
    "data.head(3)"
   ]
  },
  {
   "cell_type": "code",
   "execution_count": 59,
   "metadata": {},
   "outputs": [],
   "source": [
    "all_etfs = data['etf'].unique()\n",
    "top50raw = ['VOO', 'SCHB', 'IJH', 'IJR', 'IEFA', 'VXUS', 'VSS', 'VWO', 'VNQ', 'BND', 'BSV', 'SCHP', 'VTIP', 'BNDX', 'AOA', 'AOR', 'AOM', 'AOK', 'GAL', 'PRF', 'VTV', 'DLN', 'USMV', 'SPHQ', 'VUG', 'VOE', 'DON', 'VOT', 'VBR', 'DES', 'PRFZ', 'VBK', 'SDY', 'VIGI', 'ICF', 'VNQI', 'IGE', 'PXF', 'EFAV', 'EWX', 'FBND', 'BOND', 'MINT', 'LQD', 'VCSH', 'HYG', 'VTEB', 'SHM', 'PICB', 'EBND']\n",
    "top_50 = [i.lower() for i in top50raw]"
   ]
  },
  {
   "cell_type": "code",
   "execution_count": 60,
   "metadata": {},
   "outputs": [
    {
     "data": {
      "text/plain": [
       "['voo', 'schb', 'ijh']"
      ]
     },
     "execution_count": 60,
     "metadata": {},
     "output_type": "execute_result"
    }
   ],
   "source": [
    "top_50[:3]"
   ]
  },
  {
   "cell_type": "code",
   "execution_count": 8,
   "metadata": {},
   "outputs": [
    {
     "data": {
      "text/html": [
       "<div>\n",
       "<style scoped>\n",
       "    .dataframe tbody tr th:only-of-type {\n",
       "        vertical-align: middle;\n",
       "    }\n",
       "\n",
       "    .dataframe tbody tr th {\n",
       "        vertical-align: top;\n",
       "    }\n",
       "\n",
       "    .dataframe thead th {\n",
       "        text-align: right;\n",
       "    }\n",
       "</style>\n",
       "<table border=\"1\" class=\"dataframe\">\n",
       "  <thead>\n",
       "    <tr style=\"text-align: right;\">\n",
       "      <th></th>\n",
       "      <th>Open</th>\n",
       "      <th>High</th>\n",
       "      <th>Low</th>\n",
       "      <th>Close</th>\n",
       "      <th>Volume</th>\n",
       "      <th>ratio</th>\n",
       "      <th>difference_OC</th>\n",
       "    </tr>\n",
       "  </thead>\n",
       "  <tbody>\n",
       "    <tr>\n",
       "      <th>count</th>\n",
       "      <td>2.565576e+06</td>\n",
       "      <td>2.565576e+06</td>\n",
       "      <td>2.565576e+06</td>\n",
       "      <td>2.565576e+06</td>\n",
       "      <td>2.565576e+06</td>\n",
       "      <td>2.565576e+06</td>\n",
       "      <td>2.565576e+06</td>\n",
       "    </tr>\n",
       "    <tr>\n",
       "      <th>mean</th>\n",
       "      <td>2.246839e+03</td>\n",
       "      <td>2.360112e+03</td>\n",
       "      <td>2.152195e+03</td>\n",
       "      <td>2.239547e+03</td>\n",
       "      <td>1.555496e+06</td>\n",
       "      <td>inf</td>\n",
       "      <td>7.291764e+00</td>\n",
       "    </tr>\n",
       "    <tr>\n",
       "      <th>std</th>\n",
       "      <td>1.710631e+05</td>\n",
       "      <td>1.803383e+05</td>\n",
       "      <td>1.637205e+05</td>\n",
       "      <td>1.707775e+05</td>\n",
       "      <td>1.192351e+07</td>\n",
       "      <td>NaN</td>\n",
       "      <td>1.129733e+04</td>\n",
       "    </tr>\n",
       "    <tr>\n",
       "      <th>min</th>\n",
       "      <td>0.000000e+00</td>\n",
       "      <td>2.598000e-01</td>\n",
       "      <td>0.000000e+00</td>\n",
       "      <td>2.472000e-01</td>\n",
       "      <td>0.000000e+00</td>\n",
       "      <td>2.743964e-09</td>\n",
       "      <td>-4.680000e+06</td>\n",
       "    </tr>\n",
       "    <tr>\n",
       "      <th>25%</th>\n",
       "      <td>2.263600e+01</td>\n",
       "      <td>2.276720e+01</td>\n",
       "      <td>2.248300e+01</td>\n",
       "      <td>2.262700e+01</td>\n",
       "      <td>9.226000e+03</td>\n",
       "      <td>1.397814e-04</td>\n",
       "      <td>-1.430000e-01</td>\n",
       "    </tr>\n",
       "    <tr>\n",
       "      <th>50%</th>\n",
       "      <td>3.518900e+01</td>\n",
       "      <td>3.542900e+01</td>\n",
       "      <td>3.491100e+01</td>\n",
       "      <td>3.517600e+01</td>\n",
       "      <td>4.651500e+04</td>\n",
       "      <td>7.627477e-04</td>\n",
       "      <td>0.000000e+00</td>\n",
       "    </tr>\n",
       "    <tr>\n",
       "      <th>75%</th>\n",
       "      <td>5.632300e+01</td>\n",
       "      <td>5.664200e+01</td>\n",
       "      <td>5.595500e+01</td>\n",
       "      <td>5.631400e+01</td>\n",
       "      <td>2.487002e+05</td>\n",
       "      <td>4.163753e-03</td>\n",
       "      <td>1.420000e-01</td>\n",
       "    </tr>\n",
       "    <tr>\n",
       "      <th>max</th>\n",
       "      <td>3.411600e+07</td>\n",
       "      <td>3.715200e+07</td>\n",
       "      <td>3.369600e+07</td>\n",
       "      <td>3.530400e+07</td>\n",
       "      <td>1.519430e+09</td>\n",
       "      <td>inf</td>\n",
       "      <td>4.765000e+06</td>\n",
       "    </tr>\n",
       "  </tbody>\n",
       "</table>\n",
       "</div>"
      ],
      "text/plain": [
       "               Open          High           Low         Close        Volume  \\\n",
       "count  2.565576e+06  2.565576e+06  2.565576e+06  2.565576e+06  2.565576e+06   \n",
       "mean   2.246839e+03  2.360112e+03  2.152195e+03  2.239547e+03  1.555496e+06   \n",
       "std    1.710631e+05  1.803383e+05  1.637205e+05  1.707775e+05  1.192351e+07   \n",
       "min    0.000000e+00  2.598000e-01  0.000000e+00  2.472000e-01  0.000000e+00   \n",
       "25%    2.263600e+01  2.276720e+01  2.248300e+01  2.262700e+01  9.226000e+03   \n",
       "50%    3.518900e+01  3.542900e+01  3.491100e+01  3.517600e+01  4.651500e+04   \n",
       "75%    5.632300e+01  5.664200e+01  5.595500e+01  5.631400e+01  2.487002e+05   \n",
       "max    3.411600e+07  3.715200e+07  3.369600e+07  3.530400e+07  1.519430e+09   \n",
       "\n",
       "              ratio  difference_OC  \n",
       "count  2.565576e+06   2.565576e+06  \n",
       "mean            inf   7.291764e+00  \n",
       "std             NaN   1.129733e+04  \n",
       "min    2.743964e-09  -4.680000e+06  \n",
       "25%    1.397814e-04  -1.430000e-01  \n",
       "50%    7.627477e-04   0.000000e+00  \n",
       "75%    4.163753e-03   1.420000e-01  \n",
       "max             inf   4.765000e+06  "
      ]
     },
     "execution_count": 8,
     "metadata": {},
     "output_type": "execute_result"
    }
   ],
   "source": [
    "data.describe()"
   ]
  },
  {
   "cell_type": "code",
   "execution_count": 40,
   "metadata": {},
   "outputs": [
    {
     "data": {
      "text/plain": [
       "numpy.int64"
      ]
     },
     "execution_count": 40,
     "metadata": {},
     "output_type": "execute_result"
    }
   ],
   "source": [
    "type(data['Volume'][1])"
   ]
  },
  {
   "cell_type": "markdown",
   "metadata": {},
   "source": [
    "## Plotting"
   ]
  },
  {
   "cell_type": "code",
   "execution_count": 36,
   "metadata": {},
   "outputs": [
    {
     "data": {
      "text/plain": [
       "Date\n",
       "2005-02-25    105.79\n",
       "2005-02-28    105.08\n",
       "2005-03-01    105.62\n",
       "2005-03-02    105.57\n",
       "2005-03-03    105.61\n",
       "2005-03-04    106.93\n",
       "2005-03-07    106.97\n",
       "2005-03-08    106.55\n",
       "2005-03-09    105.39\n",
       "2005-03-10    105.62\n",
       "2005-03-11    104.88\n",
       "2005-03-14    105.54\n",
       "2005-03-15    104.65\n",
       "2005-03-16    103.77\n",
       "2005-03-17    103.99\n",
       "2005-03-18    103.26\n",
       "2005-03-21    102.89\n",
       "2005-03-22    101.85\n",
       "2005-03-23    101.93\n",
       "2005-03-24    102.05\n",
       "2005-03-28    102.19\n",
       "2005-03-29    101.51\n",
       "2005-03-30    102.96\n",
       "2005-03-31    102.77\n",
       "2005-04-01    102.30\n",
       "2005-04-04    102.48\n",
       "2005-04-05    102.97\n",
       "2005-04-06    103.32\n",
       "2005-04-07    103.87\n",
       "2005-04-08    102.80\n",
       "               ...  \n",
       "2017-10-02    252.32\n",
       "2017-10-03    252.86\n",
       "2017-10-04    253.16\n",
       "2017-10-05    254.66\n",
       "2017-10-06    254.37\n",
       "2017-10-09    253.95\n",
       "2017-10-10    254.62\n",
       "2017-10-11    255.02\n",
       "2017-10-12    254.64\n",
       "2017-10-13    254.95\n",
       "2017-10-16    255.29\n",
       "2017-10-17    255.47\n",
       "2017-10-18    255.72\n",
       "2017-10-19    255.79\n",
       "2017-10-20    257.11\n",
       "2017-10-23    256.11\n",
       "2017-10-24    256.56\n",
       "2017-10-25    255.29\n",
       "2017-10-26    255.62\n",
       "2017-10-27    257.71\n",
       "2017-10-30    256.75\n",
       "2017-10-31    257.15\n",
       "2017-11-01    257.49\n",
       "2017-11-02    257.59\n",
       "2017-11-03    258.45\n",
       "2017-11-06    258.85\n",
       "2017-11-07    258.67\n",
       "2017-11-08    259.11\n",
       "2017-11-09    258.17\n",
       "2017-11-10    258.09\n",
       "Name: Close, Length: 3201, dtype: float64"
      ]
     },
     "execution_count": 36,
     "metadata": {},
     "output_type": "execute_result"
    }
   ],
   "source": [
    "data[data['etf']=='spy'].groupby(by='Date').mean()['Close']"
   ]
  },
  {
   "cell_type": "code",
   "execution_count": 8,
   "metadata": {},
   "outputs": [],
   "source": [
    "def plot_each(etf_name):\n",
    "    print(etf_name)\n",
    "    X = np.array([i for i in range(len(data[data['etf']==etf_name].groupby(by='Date').mean().index))]).reshape(-1, 1)\n",
    "    y = np.array(data[data['etf']=='spy']['Close'])\n",
    "    clf = BayesianRidge(compute_score=True)\n",
    "\n",
    "    X_train, X_test, y_train, y_test = train_test_split(X, y, test_size=0.1, random_state=0)\n",
    "\n",
    "    clf.fit(X_train, y_train)\n",
    "    print(\"Accuracy: {}\".format(clf.score(X_test, y_test)))\n",
    "\n",
    "    pred = clf.predict(X_test)\n",
    "    plt.scatter(X_test, y_test,  color='black')\n",
    "    plt.plot(X_test, pred, color='blue', linewidth=3)\n",
    "\n",
    "    # plt.xticks(())\n",
    "    # plt.yticks(())\n",
    "    plt.grid(True)\n",
    "    plt.title(\"scatterplot of data with blue regression line\")\n",
    "    plt.xlabel('date')\n",
    "    plt.ylabel('average closing $')\n",
    "    plt.show()"
   ]
  },
  {
   "cell_type": "code",
   "execution_count": 9,
   "metadata": {},
   "outputs": [
    {
     "name": "stdout",
     "output_type": "stream",
     "text": [
      "spy\n",
      "Accuracy: 0.6988988598892807\n"
     ]
    },
    {
     "data": {
      "image/png": "[encoded data removed]",
      "text/plain": [
       "<Figure size 432x288 with 1 Axes>"
      ]
     },
     "metadata": {},
     "output_type": "display_data"
    },
    {
     "data": {
      "text/plain": [
       "[None]"
      ]
     },
     "execution_count": 9,
     "metadata": {},
     "output_type": "execute_result"
    }
   ],
   "source": [
    "[plot_each(i) for i in ['spy']]"
   ]
  },
  {
   "cell_type": "markdown",
   "metadata": {},
   "source": [
    "## Baseline linear regression"
   ]
  },
  {
   "cell_type": "code",
   "execution_count": 44,
   "metadata": {},
   "outputs": [],
   "source": [
    "def just_accuracy(etf_list):\n",
    "    '''\n",
    "    takes a list of etfs and outputs accuracies of \n",
    "    Bayesian ridge regression for each etf\n",
    "    '''\n",
    "    output = {}\n",
    "    for etf_name in etf_list:\n",
    "#         print(etf_name)\n",
    "        X = np.array([i for i in range(len(data[data['etf']==etf_name].groupby(by='Date').mean().index))]).reshape(-1, 1)\n",
    "        y = data[data['etf']==etf_name].groupby(by='Date').mean()['Close']\n",
    "        clf = BayesianRidge(compute_score=True)\n",
    "        X_train, X_test, y_train, y_test = train_test_split(X, y, test_size=0.1, random_state=0)\n",
    "        clf.fit(X_train, y_train)\n",
    "        try:\n",
    "            output[etf_name] = clf.score(X_test, y_test)\n",
    "        except:\n",
    "            output[etf_name] = -1\n",
    "    \n",
    "    return output"
   ]
  },
  {
   "cell_type": "code",
   "execution_count": 45,
   "metadata": {
    "scrolled": true
   },
   "outputs": [
    {
     "name": "stderr",
     "output_type": "stream",
     "text": [
      "c:\\program files\\python36\\lib\\site-packages\\sklearn\\linear_model\\bayes.py:165: RuntimeWarning: divide by zero encountered in double_scalars\n",
      "  alpha_ = 1. / np.var(y)\n",
      "c:\\program files\\python36\\lib\\site-packages\\sklearn\\linear_model\\bayes.py:197: RuntimeWarning: divide by zero encountered in true_divide\n",
      "  U / (eigen_vals_ + lambda_ / alpha_)[None, :], U.T))\n",
      "c:\\program files\\python36\\lib\\site-packages\\sklearn\\linear_model\\bayes.py:201: RuntimeWarning: invalid value encountered in multiply\n",
      "  logdet_sigma_[:n_samples] += alpha_ * eigen_vals_\n",
      "c:\\program files\\python36\\lib\\site-packages\\sklearn\\linear_model\\bayes.py:211: RuntimeWarning: invalid value encountered in multiply\n",
      "  gamma_ = (np.sum((alpha_ * eigen_vals_) /\n",
      "c:\\program files\\python36\\lib\\site-packages\\sklearn\\linear_model\\bayes.py:212: RuntimeWarning: invalid value encountered in multiply\n",
      "  (lambda_ + alpha_ * eigen_vals_)))\n"
     ]
    },
    {
     "name": "stdout",
     "output_type": "stream",
     "text": [
      "Wall time: 15min 37s\n"
     ]
    }
   ],
   "source": [
    "%%time\n",
    "etf_accuracies = just_accuracy(data['etf'].unique())\n",
    "df_etf = pd.DataFrame.from_dict(etf_accuracies, orient='index')\n",
    "df_etf.head(3)"
   ]
  },
  {
   "cell_type": "code",
   "execution_count": 46,
   "metadata": {},
   "outputs": [
    {
     "data": {
      "text/html": [
       "<div>\n",
       "<style scoped>\n",
       "    .dataframe tbody tr th:only-of-type {\n",
       "        vertical-align: middle;\n",
       "    }\n",
       "\n",
       "    .dataframe tbody tr th {\n",
       "        vertical-align: top;\n",
       "    }\n",
       "\n",
       "    .dataframe thead th {\n",
       "        text-align: right;\n",
       "    }\n",
       "</style>\n",
       "<table border=\"1\" class=\"dataframe\">\n",
       "  <thead>\n",
       "    <tr style=\"text-align: right;\">\n",
       "      <th></th>\n",
       "      <th>0</th>\n",
       "    </tr>\n",
       "  </thead>\n",
       "  <tbody>\n",
       "    <tr>\n",
       "      <th>aadr</th>\n",
       "      <td>0.856253</td>\n",
       "    </tr>\n",
       "    <tr>\n",
       "      <th>aaxj</th>\n",
       "      <td>0.548266</td>\n",
       "    </tr>\n",
       "    <tr>\n",
       "      <th>acim</th>\n",
       "      <td>0.816800</td>\n",
       "    </tr>\n",
       "    <tr>\n",
       "      <th>actx</th>\n",
       "      <td>0.137994</td>\n",
       "    </tr>\n",
       "    <tr>\n",
       "      <th>acwf</th>\n",
       "      <td>0.723872</td>\n",
       "    </tr>\n",
       "  </tbody>\n",
       "</table>\n",
       "</div>"
      ],
      "text/plain": [
       "             0\n",
       "aadr  0.856253\n",
       "aaxj  0.548266\n",
       "acim  0.816800\n",
       "actx  0.137994\n",
       "acwf  0.723872"
      ]
     },
     "execution_count": 46,
     "metadata": {},
     "output_type": "execute_result"
    }
   ],
   "source": [
    "df_etf.head()"
   ]
  },
  {
   "cell_type": "code",
   "execution_count": 47,
   "metadata": {},
   "outputs": [
    {
     "data": {
      "text/plain": [
       "count    1342.000000\n",
       "mean        0.542708\n",
       "std         0.330544\n",
       "min        -2.187973\n",
       "25%         0.286447\n",
       "50%         0.634162\n",
       "75%         0.816768\n",
       "max         0.985279\n",
       "Name: 0, dtype: float64"
      ]
     },
     "execution_count": 47,
     "metadata": {},
     "output_type": "execute_result"
    }
   ],
   "source": [
    "df_etf[0].describe()"
   ]
  },
  {
   "cell_type": "markdown",
   "metadata": {},
   "source": [
    "## Lag plots, Seasonal plots, and Autocorrelation plots"
   ]
  },
  {
   "cell_type": "code",
   "execution_count": 13,
   "metadata": {},
   "outputs": [
    {
     "data": {
      "text/plain": [
       "<matplotlib.axes._subplots.AxesSubplot at 0x21b7b0690f0>"
      ]
     },
     "execution_count": 13,
     "metadata": {},
     "output_type": "execute_result"
    },
    {
     "data": {
      "image/png": "[encoded data removed]",
      "text/plain": [
       "<Figure size 432x288 with 1 Axes>"
      ]
     },
     "metadata": {},
     "output_type": "display_data"
    }
   ],
   "source": [
    "lag_plot(data[data['etf']=='spy']['Close'],lag=25)"
   ]
  },
  {
   "cell_type": "code",
   "execution_count": 14,
   "metadata": {},
   "outputs": [
    {
     "data": {
      "text/plain": [
       "<matplotlib.axes._subplots.AxesSubplot at 0x21b7c6820b8>"
      ]
     },
     "execution_count": 14,
     "metadata": {},
     "output_type": "execute_result"
    },
    {
     "data": {
      "text/plain": [
       "<Figure size 432x288 with 0 Axes>"
      ]
     },
     "metadata": {},
     "output_type": "display_data"
    },
    {
     "data": {
      "image/png": "[encoded data removed]",
      "text/plain": [
       "<Figure size 1080x360 with 1 Axes>"
      ]
     },
     "metadata": {},
     "output_type": "display_data"
    }
   ],
   "source": [
    "plt.clf()\n",
    "fig, ax = plt.subplots(figsize=(15, 5))\n",
    "autocorrelation_plot(data[data['etf']=='spy']['Close'], ax=ax)"
   ]
  },
  {
   "cell_type": "code",
   "execution_count": 15,
   "metadata": {},
   "outputs": [
    {
     "data": {
      "image/png": "[encoded data removed]",
      "text/plain": [
       "<Figure size 792x648 with 4 Axes>"
      ]
     },
     "metadata": {},
     "output_type": "display_data"
    }
   ],
   "source": [
    "from pylab import rcParams\n",
    "rcParams['figure.figsize'] = 11, 9\n",
    "import statsmodels.api as sm\n",
    "seasonal_decomposition = sm.tsa.seasonal_decompose(data[data[\"etf\"]=='spy'][\"Close\"],freq=365) # The frequncy is annual\n",
    "figure = seasonal_decomposition.plot()\n",
    "plt.show()"
   ]
  },
  {
   "cell_type": "markdown",
   "metadata": {},
   "source": [
    "## calculate autocorrelation"
   ]
  },
  {
   "cell_type": "code",
   "execution_count": 16,
   "metadata": {},
   "outputs": [],
   "source": [
    "def autocorrelation_measures_730(variable='Close'):\n",
    "    '''\n",
    "    calculate autocorrelations for variable on 7, and 30 day lags\n",
    "    '''\n",
    "    lag_7 = []\n",
    "    lag_30 = []\n",
    "    for each_etf in data['etf'].unique():\n",
    "        lag7_val = data[data['etf']== each_etf][variable].autocorr(lag=7)        \n",
    "        if np.isnan(lag7_val):\n",
    "            pass\n",
    "        else: lag_7.append(lag7_val)\n",
    "        lag30_val = data[data['etf']== each_etf][variable].autocorr(lag=30)\n",
    "        if np.isnan(lag30_val):\n",
    "            pass\n",
    "        else: lag_30.append(lag30_val)\n",
    "    return lag_7, lag_30"
   ]
  },
  {
   "cell_type": "code",
   "execution_count": 17,
   "metadata": {},
   "outputs": [
    {
     "name": "stderr",
     "output_type": "stream",
     "text": [
      "c:\\program files\\python36\\lib\\site-packages\\numpy\\lib\\function_base.py:3175: RuntimeWarning: Degrees of freedom <= 0 for slice\n",
      "  c = cov(x, y, rowvar)\n",
      "c:\\program files\\python36\\lib\\site-packages\\numpy\\lib\\function_base.py:3109: RuntimeWarning: divide by zero encountered in double_scalars\n",
      "  c *= 1. / np.float64(fact)\n"
     ]
    }
   ],
   "source": [
    "lag7, lag30 = autocorrelation_measures_730()\n",
    "# print(lag7)\n",
    "# print(lag30)"
   ]
  },
  {
   "cell_type": "code",
   "execution_count": 18,
   "metadata": {},
   "outputs": [
    {
     "data": {
      "text/plain": [
       "0.9743308975955385"
      ]
     },
     "execution_count": 18,
     "metadata": {},
     "output_type": "execute_result"
    }
   ],
   "source": [
    "stats.mean(lag7)"
   ]
  },
  {
   "cell_type": "code",
   "execution_count": 19,
   "metadata": {},
   "outputs": [
    {
     "data": {
      "text/plain": [
       "0.9191575954860506"
      ]
     },
     "execution_count": 19,
     "metadata": {},
     "output_type": "execute_result"
    }
   ],
   "source": [
    "stats.mean(lag30)"
   ]
  },
  {
   "cell_type": "code",
   "execution_count": 50,
   "metadata": {},
   "outputs": [],
   "source": [
    "def autocorrelation_measures(variable='Close'):\n",
    "    '''\n",
    "    calculate autocorrelations for variable on \n",
    "    each ETFs AND for 1-30 day lags\n",
    "    \n",
    "    returns a dictionary: \n",
    "        KEY = ETF_name\n",
    "        VALUE = {lag_time: autocorrelation_value}\n",
    "    '''\n",
    "    lag_dicts = {}\n",
    "    for each_etf in data['etf'].unique():\n",
    "        for lag_time in range(1,31):\n",
    "            lag_val = data[data['etf']== each_etf][variable].autocorr(lag=lag_time)        \n",
    "            if np.isnan(lag_val):\n",
    "                pass\n",
    "            else: \n",
    "                lag_dicts[each_etf] = {lag_time: lag_val}\n",
    "    return lag_dicts"
   ]
  },
  {
   "cell_type": "code",
   "execution_count": 51,
   "metadata": {},
   "outputs": [],
   "source": [
    "def read_dict_text(filename):\n",
    "    '''\n",
    "    reads the txt files created from autocorrelation_measures()\n",
    "    and reads the output as a dictionary\n",
    "    '''\n",
    "    with open(filename, 'r', encoding='utf-8') as fh:\n",
    "        autocorr_lags_1 = ast.literal_eval(fh.read())\n",
    "    return autocorr_lags_1"
   ]
  },
  {
   "cell_type": "code",
   "execution_count": 52,
   "metadata": {},
   "outputs": [],
   "source": [
    "def ac_dif_lag():\n",
    "    '''\n",
    "    combines the autocorrelation_measures() dictionaries together\n",
    "    '''\n",
    "    autocorrelation_dif_lags = {}\n",
    "    for i in range(1,9):\n",
    "        temp = read_dict_text('output{}.txt'.format(i))\n",
    "        autocorrelation_dif_lags.update(temp)\n",
    "    return autocorrelation_dif_lags"
   ]
  },
  {
   "cell_type": "code",
   "execution_count": 53,
   "metadata": {},
   "outputs": [],
   "source": [
    "dif_lags = ac_dif_lag()"
   ]
  },
  {
   "cell_type": "markdown",
   "metadata": {},
   "source": [
    "# Predictions"
   ]
  },
  {
   "cell_type": "code",
   "execution_count": 48,
   "metadata": {},
   "outputs": [],
   "source": [
    "X = np.array([i for i in range(len(data[data['etf']==etf_name].groupby(by='Date').mean().index))]).reshape(-1, 1)\n",
    "y = data[data['etf']==etf_name].groupby(by='Date').mean()['Close']\n",
    "X_train, X_test, y_train, y_test = train_test_split(X, y, test_size=0.1, random_state=0)\n",
    "\n",
    "clf = SVR(gamma='scale', C=1.0, epsilon=0.2)\n",
    "clf2 = MLPRegressor(hidden_layer_sizes=(100, ), activation = 'tanh', max_iter = 1000)        \n",
    "clf.fit(self.X_train, self.y_train)\n",
    "clf.predict(self.X_test)\n",
    "self.acc = clf.score(self.X_test, self.y_test)"
   ]
  },
  {
   "cell_type": "code",
   "execution_count": 49,
   "metadata": {},
   "outputs": [
    {
     "ename": "TypeError",
     "evalue": "must be real number, not str",
     "output_type": "error",
     "traceback": [
      "\u001b[1;31m---------------------------------------------------------------------------\u001b[0m",
      "\u001b[1;31mTypeError\u001b[0m                                 Traceback (most recent call last)",
      "\u001b[1;32m<ipython-input-49-dba0b7d716f3>\u001b[0m in \u001b[0;36m<module>\u001b[1;34m()\u001b[0m\n\u001b[0;32m      1\u001b[0m \u001b[0mP\u001b[0m \u001b[1;33m=\u001b[0m \u001b[0mpredictors\u001b[0m\u001b[1;33m(\u001b[0m\u001b[0mdata\u001b[0m\u001b[1;33m,\u001b[0m \u001b[1;34m'spy'\u001b[0m\u001b[1;33m)\u001b[0m\u001b[1;33m\u001b[0m\u001b[0m\n\u001b[1;32m----> 2\u001b[1;33m \u001b[0mP\u001b[0m\u001b[1;33m.\u001b[0m\u001b[0mpipeline_predictor\u001b[0m\u001b[1;33m(\u001b[0m\u001b[1;33m)\u001b[0m\u001b[1;33m\u001b[0m\u001b[0m\n\u001b[0m",
      "\u001b[1;32m<ipython-input-48-80a50c26a764>\u001b[0m in \u001b[0;36mpipeline_predictor\u001b[1;34m(self)\u001b[0m\n\u001b[0;32m      8\u001b[0m         \u001b[0mclf\u001b[0m \u001b[1;33m=\u001b[0m \u001b[0mSVR\u001b[0m\u001b[1;33m(\u001b[0m\u001b[0mgamma\u001b[0m\u001b[1;33m=\u001b[0m\u001b[1;34m'scale'\u001b[0m\u001b[1;33m,\u001b[0m \u001b[0mC\u001b[0m\u001b[1;33m=\u001b[0m\u001b[1;36m1.0\u001b[0m\u001b[1;33m,\u001b[0m \u001b[0mepsilon\u001b[0m\u001b[1;33m=\u001b[0m\u001b[1;36m0.2\u001b[0m\u001b[1;33m)\u001b[0m\u001b[1;33m\u001b[0m\u001b[0m\n\u001b[0;32m      9\u001b[0m         \u001b[0mclf2\u001b[0m \u001b[1;33m=\u001b[0m \u001b[0mMLPRegressor\u001b[0m\u001b[1;33m(\u001b[0m\u001b[0mhidden_layer_sizes\u001b[0m\u001b[1;33m=\u001b[0m\u001b[1;33m(\u001b[0m\u001b[1;36m100\u001b[0m\u001b[1;33m,\u001b[0m \u001b[1;33m)\u001b[0m\u001b[1;33m,\u001b[0m \u001b[0mactivation\u001b[0m \u001b[1;33m=\u001b[0m \u001b[1;34m'tanh'\u001b[0m\u001b[1;33m,\u001b[0m \u001b[0mmax_iter\u001b[0m \u001b[1;33m=\u001b[0m \u001b[1;36m1000\u001b[0m\u001b[1;33m)\u001b[0m\u001b[1;33m\u001b[0m\u001b[0m\n\u001b[1;32m---> 10\u001b[1;33m         \u001b[0mclf\u001b[0m\u001b[1;33m.\u001b[0m\u001b[0mfit\u001b[0m\u001b[1;33m(\u001b[0m\u001b[0mself\u001b[0m\u001b[1;33m.\u001b[0m\u001b[0mX_train\u001b[0m\u001b[1;33m,\u001b[0m \u001b[0mself\u001b[0m\u001b[1;33m.\u001b[0m\u001b[0my_train\u001b[0m\u001b[1;33m)\u001b[0m\u001b[1;33m\u001b[0m\u001b[0m\n\u001b[0m\u001b[0;32m     11\u001b[0m         \u001b[0mclf\u001b[0m\u001b[1;33m.\u001b[0m\u001b[0mpredict\u001b[0m\u001b[1;33m(\u001b[0m\u001b[0mself\u001b[0m\u001b[1;33m.\u001b[0m\u001b[0mX_test\u001b[0m\u001b[1;33m)\u001b[0m\u001b[1;33m\u001b[0m\u001b[0m\n\u001b[0;32m     12\u001b[0m         \u001b[0mself\u001b[0m\u001b[1;33m.\u001b[0m\u001b[0macc\u001b[0m \u001b[1;33m=\u001b[0m \u001b[0mclf\u001b[0m\u001b[1;33m.\u001b[0m\u001b[0mscore\u001b[0m\u001b[1;33m(\u001b[0m\u001b[0mself\u001b[0m\u001b[1;33m.\u001b[0m\u001b[0mX_test\u001b[0m\u001b[1;33m,\u001b[0m \u001b[0mself\u001b[0m\u001b[1;33m.\u001b[0m\u001b[0my_test\u001b[0m\u001b[1;33m)\u001b[0m\u001b[1;33m\u001b[0m\u001b[0m\n",
      "\u001b[1;32mc:\\program files\\python36\\lib\\site-packages\\sklearn\\svm\\base.py\u001b[0m in \u001b[0;36mfit\u001b[1;34m(self, X, y, sample_weight)\u001b[0m\n\u001b[0;32m    185\u001b[0m \u001b[1;33m\u001b[0m\u001b[0m\n\u001b[0;32m    186\u001b[0m         \u001b[0mseed\u001b[0m \u001b[1;33m=\u001b[0m \u001b[0mrnd\u001b[0m\u001b[1;33m.\u001b[0m\u001b[0mrandint\u001b[0m\u001b[1;33m(\u001b[0m\u001b[0mnp\u001b[0m\u001b[1;33m.\u001b[0m\u001b[0miinfo\u001b[0m\u001b[1;33m(\u001b[0m\u001b[1;34m'i'\u001b[0m\u001b[1;33m)\u001b[0m\u001b[1;33m.\u001b[0m\u001b[0mmax\u001b[0m\u001b[1;33m)\u001b[0m\u001b[1;33m\u001b[0m\u001b[0m\n\u001b[1;32m--> 187\u001b[1;33m         \u001b[0mfit\u001b[0m\u001b[1;33m(\u001b[0m\u001b[0mX\u001b[0m\u001b[1;33m,\u001b[0m \u001b[0my\u001b[0m\u001b[1;33m,\u001b[0m \u001b[0msample_weight\u001b[0m\u001b[1;33m,\u001b[0m \u001b[0msolver_type\u001b[0m\u001b[1;33m,\u001b[0m \u001b[0mkernel\u001b[0m\u001b[1;33m,\u001b[0m \u001b[0mrandom_seed\u001b[0m\u001b[1;33m=\u001b[0m\u001b[0mseed\u001b[0m\u001b[1;33m)\u001b[0m\u001b[1;33m\u001b[0m\u001b[0m\n\u001b[0m\u001b[0;32m    188\u001b[0m         \u001b[1;31m# see comment on the other call to np.iinfo in this file\u001b[0m\u001b[1;33m\u001b[0m\u001b[1;33m\u001b[0m\u001b[0m\n\u001b[0;32m    189\u001b[0m \u001b[1;33m\u001b[0m\u001b[0m\n",
      "\u001b[1;32mc:\\program files\\python36\\lib\\site-packages\\sklearn\\svm\\base.py\u001b[0m in \u001b[0;36m_dense_fit\u001b[1;34m(self, X, y, sample_weight, solver_type, kernel, random_seed)\u001b[0m\n\u001b[0;32m    252\u001b[0m                 \u001b[0mcache_size\u001b[0m\u001b[1;33m=\u001b[0m\u001b[0mself\u001b[0m\u001b[1;33m.\u001b[0m\u001b[0mcache_size\u001b[0m\u001b[1;33m,\u001b[0m \u001b[0mcoef0\u001b[0m\u001b[1;33m=\u001b[0m\u001b[0mself\u001b[0m\u001b[1;33m.\u001b[0m\u001b[0mcoef0\u001b[0m\u001b[1;33m,\u001b[0m\u001b[1;33m\u001b[0m\u001b[0m\n\u001b[0;32m    253\u001b[0m                 \u001b[0mgamma\u001b[0m\u001b[1;33m=\u001b[0m\u001b[0mself\u001b[0m\u001b[1;33m.\u001b[0m\u001b[0m_gamma\u001b[0m\u001b[1;33m,\u001b[0m \u001b[0mepsilon\u001b[0m\u001b[1;33m=\u001b[0m\u001b[0mself\u001b[0m\u001b[1;33m.\u001b[0m\u001b[0mepsilon\u001b[0m\u001b[1;33m,\u001b[0m\u001b[1;33m\u001b[0m\u001b[0m\n\u001b[1;32m--> 254\u001b[1;33m                 max_iter=self.max_iter, random_seed=random_seed)\n\u001b[0m\u001b[0;32m    255\u001b[0m \u001b[1;33m\u001b[0m\u001b[0m\n\u001b[0;32m    256\u001b[0m         \u001b[0mself\u001b[0m\u001b[1;33m.\u001b[0m\u001b[0m_warn_from_fit_status\u001b[0m\u001b[1;33m(\u001b[0m\u001b[1;33m)\u001b[0m\u001b[1;33m\u001b[0m\u001b[0m\n",
      "\u001b[1;32msklearn\\svm\\libsvm.pyx\u001b[0m in \u001b[0;36msklearn.svm.libsvm.fit\u001b[1;34m()\u001b[0m\n",
      "\u001b[1;31mTypeError\u001b[0m: must be real number, not str"
     ]
    }
   ],
   "source": [
    "P = predictors(data, 'spy')\n",
    "P.pipeline_predictor()"
   ]
  },
  {
   "cell_type": "code",
   "execution_count": null,
   "metadata": {},
   "outputs": [],
   "source": []
  },
  {
   "cell_type": "code",
   "execution_count": null,
   "metadata": {},
   "outputs": [],
   "source": []
  },
  {
   "cell_type": "code",
   "execution_count": null,
   "metadata": {},
   "outputs": [],
   "source": []
  },
  {
   "cell_type": "code",
   "execution_count": null,
   "metadata": {},
   "outputs": [],
   "source": []
  },
  {
   "cell_type": "code",
   "execution_count": null,
   "metadata": {},
   "outputs": [],
   "source": []
  },
  {
   "cell_type": "code",
   "execution_count": null,
   "metadata": {},
   "outputs": [],
   "source": []
  }
 ],
 "metadata": {
  "kernelspec": {
   "display_name": "Python 3",
   "language": "python",
   "name": "python3"
  },
  "language_info": {
   "codemirror_mode": {
    "name": "ipython",
    "version": 3
   },
   "file_extension": ".py",
   "mimetype": "text/x-python",
   "name": "python",
   "nbconvert_exporter": "python",
   "pygments_lexer": "ipython3",
   "version": "3.6.5"
  }
 },
 "nbformat": 4,
 "nbformat_minor": 2
}
